{
 "cells": [
  {
   "attachments": {},
   "cell_type": "markdown",
   "id": "c25319c4-2312-4f63-9bea-4ce280b5dc34",
   "metadata": {},
   "source": [
    "# Data Science Tools and Ecosystem"
   ]
  },
  {
   "cell_type": "markdown",
   "id": "b2f450b2-27e5-4075-8c14-fb53d4ad12c6",
   "metadata": {},
   "source": [
    "In this notebook, Data Science Tools and Ecosystem are summarized"
   ]
  },
  {
   "cell_type": "markdown",
   "id": "36e88a6e-86d6-4d07-8033-0147f67c8d9c",
   "metadata": {},
   "source": [
    "**Objectives:** Unordered List\n",
    "1. Scala\n",
    "2. Java\n",
    "3. C++\n",
    "4. PHP\n",
    "5. Julia"
   ]
  },
  {
   "cell_type": "markdown",
   "id": "82e85949-7683-4fb2-83c2-bbc522a34ade",
   "metadata": {},
   "source": [
    "Some of the popular languages that Data Scientists use are:"
   ]
  },
  {
   "cell_type": "markdown",
   "id": "7f39b0b5-c58c-439e-ab2e-a38343f29c25",
   "metadata": {},
   "source": [
    "Ordered list\n",
    "1. Phython\n",
    "2. R\n",
    "3. SQL"
   ]
  },
  {
   "cell_type": "markdown",
   "id": "be57bb05-2ca8-41fd-a5f0-b0a5516cc1c7",
   "metadata": {},
   "source": [
    "Some of the commonly used libraries used by Data Scientists include:"
   ]
  },
  {
   "cell_type": "markdown",
   "id": "e0356551-75c0-4244-963a-5172d9ada221",
   "metadata": {},
   "source": [
    "Ordered list\n",
    "1. Pandas\n",
    "2. TensorFlor\n",
    "3. SciPy"
   ]
  },
  {
   "cell_type": "markdown",
   "id": "d9f8cc06-29c2-4e78-b44e-20f2c8a034e5",
   "metadata": {},
   "source": [
    "| Data Science Tools |\n",
    "|--------------------|\n",
    "| 1. Apache Hadoop |\n",
    "| 2. Apache Spark |\n",
    "| 3. Apache Flink |"
   ]
  },
  {
   "cell_type": "markdown",
   "id": "74e7d6eb-c03e-4f2f-bb9e-86eb920cf774",
   "metadata": {},
   "source": [
    "### Below are a few examples of evaluating arithmetic expressions in Python"
   ]
  },
  {
   "cell_type": "code",
   "execution_count": 29,
   "id": "a2e2872f-a7e4-46cd-adc9-d6e8234e7659",
   "metadata": {},
   "outputs": [
    {
     "data": {
      "text/plain": [
       "17"
      ]
     },
     "execution_count": 29,
     "metadata": {},
     "output_type": "execute_result"
    }
   ],
   "source": [
    "# This a simple arithmetic expression to mutiply then add integers\n",
    "(3*4)+5"
   ]
  },
  {
   "cell_type": "code",
   "execution_count": 54,
   "id": "23904654-3840-4313-813a-fdaa20df1751",
   "metadata": {},
   "outputs": [
    {
     "data": {
      "text/plain": [
       "3.3333333333333335"
      ]
     },
     "execution_count": 54,
     "metadata": {},
     "output_type": "execute_result"
    }
   ],
   "source": [
    "# This will convert 200 minutes to hours by diving by 60\n",
    "(200/60)"
   ]
  },
  {
   "cell_type": "markdown",
   "id": "b6b20502-4a45-4e46-86ee-f9605c870ff7",
   "metadata": {},
   "source": [
    "## Author\n",
    "Harshpati Saklani"
   ]
  }
 ],
 "metadata": {
  "kernelspec": {
   "display_name": "Python 3 (ipykernel)",
   "language": "python",
   "name": "python3"
  },
  "language_info": {
   "codemirror_mode": {
    "name": "ipython",
    "version": 3
   },
   "file_extension": ".py",
   "mimetype": "text/x-python",
   "name": "python",
   "nbconvert_exporter": "python",
   "pygments_lexer": "ipython3",
   "version": "3.12.4"
  }
 },
 "nbformat": 4,
 "nbformat_minor": 5
}
